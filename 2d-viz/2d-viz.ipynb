{
 "cells": [
  {
   "cell_type": "code",
   "execution_count": 1,
   "metadata": {},
   "outputs": [],
   "source": [
    "from pyspark.sql import SQLContext\n",
    "from pyspark.sql.types import *\n",
    "from pyspark import SparkContext"
   ]
  },
  {
   "cell_type": "code",
   "execution_count": 2,
   "metadata": {},
   "outputs": [],
   "source": [
    "sc = SparkContext()\n",
    "sqlContext = SQLContext(sc)"
   ]
  },
  {
   "cell_type": "code",
   "execution_count": 3,
   "metadata": {},
   "outputs": [],
   "source": [
    "dataPath = '../Police_Department_Incident_Reports__Historical_2003_to_May_2018.csv'\n",
    "\n",
    "crimeDataSchema = StructType([StructField(\"IncidntNum\", LongType(), True),\n",
    "                              StructField(\"Category\", StringType(), True),\n",
    "                              StructField(\"Descript\", StringType(), True),\n",
    "                              StructField(\"DayOfWeek\", StringType(), True),\n",
    "                              StructField(\"Date\", StringType(), True),\n",
    "                              StructField(\"Time\", StringType(), True),\n",
    "                              StructField(\"PdDistrict\", StringType(), True),\n",
    "                              StructField(\"Resolution\", StringType(), True),\n",
    "                              StructField(\"Address\", StringType(), True),\n",
    "                              StructField(\"X\", DoubleType(), True),\n",
    "                              StructField(\"Y\", DoubleType(), True),\n",
    "                              StructField(\"Location\", StringType(), True),\n",
    "                              StructField(\"PdId\", LongType(), True)])\n",
    "\n",
    "crimeDF = (sqlContext.read\n",
    "           .format('csv')\n",
    "           .option('delimiter', ',')\n",
    "           .option('header', 'true')\n",
    "           .load(dataPath, schema=crimeDataSchema))\n",
    "\n",
    "# crimeDF.take(1)"
   ]
  },
  {
   "cell_type": "markdown",
   "metadata": {},
   "source": [
    "# Visualizations"
   ]
  },
  {
   "cell_type": "markdown",
   "metadata": {},
   "source": [
    "## 1 Counts of Different Crimes\n",
    "Let's first understand what types of crimes there are, and the frequencies of each."
   ]
  },
  {
   "cell_type": "markdown",
   "metadata": {},
   "source": [
    "### 1.1 Overall Trends"
   ]
  },
  {
   "cell_type": "code",
   "execution_count": null,
   "metadata": {},
   "outputs": [],
   "source": [
    "crime_types = crimeDF.groupBy('Category').count()\n",
    "category_rows = crime_types.select('Category', 'Count').orderBy('Count', ascending=True).collect()"
   ]
  },
  {
   "cell_type": "code",
   "execution_count": null,
   "metadata": {},
   "outputs": [],
   "source": [
    "category_counts = [(row.Category, row.Count) for row in category_rows]\n",
    "# print(category_counts)"
   ]
  },
  {
   "cell_type": "code",
   "execution_count": null,
   "metadata": {},
   "outputs": [],
   "source": [
    "import matplotlib.pyplot as plt\n",
    "import numpy as np\n",
    "\n",
    "cats = [r[0] for r in category_counts]\n",
    "vals = [r[1] for r in category_counts]\n",
    "\n",
    "plt.figure(figsize=(10,15))\n",
    "plt.barh(np.arange(len(cats)), vals, align='center')\n",
    "plt.yticks(np.arange(len(cats)), cats)\n",
    "plt.title('Crime Counts')\n",
    "plt.xlabel('Counts')\n",
    "\n",
    "for i, val in enumerate(vals):\n",
    "    plt.text(val+1000, i-0.1, str(val))\n",
    "\n",
    "plt.show()"
   ]
  },
  {
   "cell_type": "markdown",
   "metadata": {},
   "source": [
    "### 1.2 Most Popular Crimes Per District"
   ]
  },
  {
   "cell_type": "code",
   "execution_count": null,
   "metadata": {},
   "outputs": [],
   "source": [
    "crimes = (crimeDF.groupBy('Category').count().select('Category').orderBy('Count', ascending=False).collect())\n",
    "crimes = [row.Category for row in crimes]\n",
    "print(\"Crimes: \", crimes)\n",
    "\n",
    "districts = (crimeDF.groupBy('PdDistrict').count().select('PdDistrict').collect())\n",
    "districts = [row.PdDistrict for row in districts if row.PdDistrict is not None]\n",
    "print(\"Districts: \", districts)\n",
    "\n",
    "category_district_count = (crimeDF.groupBy('Category', 'PdDistrict')\n",
    "                           .count()\n",
    "                           .select('Category', 'PdDistrict', 'Count')\n",
    "                           .collect())\n",
    "category_district_count = [(r.Category, r.PdDistrict, r.Count) for r in category_district_count]\n",
    "# print(category_district_count)"
   ]
  },
  {
   "cell_type": "code",
   "execution_count": null,
   "metadata": {},
   "outputs": [],
   "source": [
    "# Create mapping from text to num for 2d heatmap\n",
    "crime_index = {crime: index for (index, crime) in enumerate(crimes)}\n",
    "# print(crime_index)\n",
    "\n",
    "district_index = {district: index for (index, district) in enumerate(districts)}\n",
    "# print(district_index)"
   ]
  },
  {
   "cell_type": "code",
   "execution_count": null,
   "metadata": {},
   "outputs": [],
   "source": [
    "heatmap_grid = np.zeros([len(crimes), len(districts)])\n",
    "\n",
    "for (crime, dist, count) in category_district_count:\n",
    "    if not dist is None:\n",
    "        heatmap_grid[crime_index[crime]][district_index[dist]] = count    \n",
    "    \n",
    "# print(heatmap_grid)    "
   ]
  },
  {
   "cell_type": "code",
   "execution_count": null,
   "metadata": {},
   "outputs": [],
   "source": [
    "import matplotlib.patheffects as PathEffects\n",
    "\n",
    "fig, ax = plt.subplots(figsize=(30, 50))\n",
    "im = ax.imshow(heatmap_grid, cmap='hot')\n",
    "\n",
    "ax.set_xticks(np.arange(len(districts)))\n",
    "ax.set_yticks(np.arange(len(crimes)))\n",
    "\n",
    "ax.set_xticklabels(districts)\n",
    "ax.set_yticklabels(crimes)\n",
    "ax.xaxis.tick_top()\n",
    "\n",
    "plt.setp(ax.get_xticklabels(), ha=\"center\")\n",
    "\n",
    "for i in range(len(crimes)):\n",
    "    for j in range(len(districts)):\n",
    "        text = ax.text(j, i, heatmap_grid[i, j],\n",
    "                       ha=\"center\", va=\"center\", color=\"w\")\n",
    "        text.set_path_effects([PathEffects.withStroke(linewidth=5, foreground='black')])\n",
    "\n",
    "ax.set_title(\"Crimes comitted per district\")\n",
    "fig.tight_layout()\n",
    "plt.show()"
   ]
  },
  {
   "cell_type": "markdown",
   "metadata": {},
   "source": [
    "## 2 How Crimes Fluctuate over Time"
   ]
  },
  {
   "cell_type": "markdown",
   "metadata": {},
   "source": [
    "### 2.1 Yearly Trends"
   ]
  },
  {
   "cell_type": "code",
   "execution_count": null,
   "metadata": {},
   "outputs": [],
   "source": []
  },
  {
   "cell_type": "markdown",
   "metadata": {},
   "source": [
    "### 2.2 Monthly Trends"
   ]
  },
  {
   "cell_type": "code",
   "execution_count": null,
   "metadata": {},
   "outputs": [],
   "source": []
  },
  {
   "cell_type": "markdown",
   "metadata": {},
   "source": [
    "### 2.3 Day of the Week Trends"
   ]
  },
  {
   "cell_type": "code",
   "execution_count": null,
   "metadata": {},
   "outputs": [],
   "source": []
  },
  {
   "cell_type": "markdown",
   "metadata": {},
   "source": [
    "### 2.4 Hourly Trends"
   ]
  },
  {
   "cell_type": "code",
   "execution_count": null,
   "metadata": {},
   "outputs": [],
   "source": [
    "# Parse the date and extra the year\n"
   ]
  },
  {
   "cell_type": "markdown",
   "metadata": {},
   "source": [
    "## 3 Different Crimes Per Location"
   ]
  },
  {
   "cell_type": "code",
   "execution_count": null,
   "metadata": {},
   "outputs": [],
   "source": []
  }
 ],
 "metadata": {
  "kernelspec": {
   "display_name": "Python 3",
   "language": "python",
   "name": "python3"
  },
  "language_info": {
   "codemirror_mode": {
    "name": "ipython",
    "version": 3
   },
   "file_extension": ".py",
   "mimetype": "text/x-python",
   "name": "python",
   "nbconvert_exporter": "python",
   "pygments_lexer": "ipython3",
   "version": "3.5.2"
  }
 },
 "nbformat": 4,
 "nbformat_minor": 2
}
